{
 "cells": [
  {
   "cell_type": "markdown",
   "metadata": {},
   "source": [
    "- Date: 20 June 2019\n",
    "- Author: Hosein Fooladi\n",
    "\n",
    "### Data Exploration\n",
    "\n",
    "In this notebook, I am going to explore the toy dataset that has been used during running the decagon code. I am going to understand it's structure in order to be able to replace it with actual dataset."
   ]
  },
  {
   "cell_type": "code",
   "execution_count": 45,
   "metadata": {},
   "outputs": [],
   "source": [
    "from itertools import combinations\n",
    "from collections import Counter\n",
    "from itertools import chain\n",
    "\n",
    "import numpy as np\n",
    "import networkx as nx\n",
    "import scipy.sparse as sp\n",
    "\n",
    "from decagon.utility import rank_metrics, preprocessing"
   ]
  },
  {
   "cell_type": "code",
   "execution_count": 40,
   "metadata": {},
   "outputs": [
    {
     "name": "stdout",
     "output_type": "stream",
     "text": [
      "Reading: data\\bio-decagon-combo.csv\n",
      "Drug combinations: 63473 Side effects: 1317\n",
      "Drug-drug interactions: 4649441\n",
      "Reading: data\\bio-decagon-ppi.csv\n",
      "Edges: 715612\n",
      "Nodes: 19081\n",
      "Reading: data\\bio-decagon-mono.csv\n",
      "Reading: data\\bio-decagon-targets-all.csv\n",
      "Reading: data\\bio-decagon-effectcategories.csv\n"
     ]
    }
   ],
   "source": [
    "combo2stitch, combo2se, se2name = load_combo_se(os.path.join('data', 'bio-decagon-combo.csv'))\n",
    "net, node2idx = load_ppi(os.path.join('data', 'bio-decagon-ppi.csv'))\n",
    "stitch2se, se2name_mono = load_mono_se(os.path.join('data', 'bio-decagon-mono.csv'))\n",
    "stitch2proteins = load_targets(os.path.join('data', 'bio-decagon-targets-all.csv'))\n",
    "se2class, se2name_class = load_categories(os.path.join('data', 'bio-decagon-effectcategories.csv'))"
   ]
  },
  {
   "cell_type": "markdown",
   "metadata": {},
   "source": [
    "There is a mismatch with these numbers and numbers that have been written in the paper. e.g., number of nodes in the PPI dataset is 19081, while this number is 19085 in the paper.\n",
    "\n",
    "Also:\n",
    "- Drug-drug interaction 4 649 441 which is different from 4 651 131"
   ]
  },
  {
   "cell_type": "markdown",
   "metadata": {},
   "source": [
    "### Number of Unique Drugs in drug combination side effect dataset\n",
    "\n",
    "Here I am going to explore a little more drug combination side effect dataset. In particular, I want to know how many unique drugs are avalable in this dataset. Fortunately, I have come up with the same number that mentioned in the paper."
   ]
  },
  {
   "cell_type": "code",
   "execution_count": 56,
   "metadata": {},
   "outputs": [
    {
     "name": "stdout",
     "output_type": "stream",
     "text": [
      "Number of unique drugs in drug combination side effect dataset is 645\n"
     ]
    }
   ],
   "source": [
    "unique_drugs = set(list(chain.from_iterable([combo2stitch[stitch] for stitch in combo2stitch])))\n",
    "\n",
    "print(\"Number of unique drugs in drug combination side effect dataset is %d\" % (len(unique_drugs)))"
   ]
  },
  {
   "cell_type": "code",
   "execution_count": 38,
   "metadata": {},
   "outputs": [
    {
     "name": "stdout",
     "output_type": "stream",
     "text": [
      "1774\n",
      "7795\n"
     ]
    }
   ],
   "source": [
    "print(len(stitch2proteins.keys()))\n",
    "\n",
    "def get_gene_counter(gene_map):\n",
    "    genes = []\n",
    "    for drug in gene_map:\n",
    "        genes += list(set(gene_map[drug]))\n",
    "    return Counter(genes)\n",
    "\n",
    "combo_counter = get_gene_counter(stitch2proteins)\n",
    "print(len(combo_counter))"
   ]
  },
  {
   "cell_type": "code",
   "execution_count": 10,
   "metadata": {},
   "outputs": [],
   "source": [
    "val_test_size = 0.05\n",
    "n_genes = len(node2idx)\n",
    "n_drugs = 400\n",
    "n_drugdrug_rel_types = 3"
   ]
  },
  {
   "cell_type": "code",
   "execution_count": 20,
   "metadata": {},
   "outputs": [],
   "source": [
    "gene_net = net\n",
    "\n",
    "gene_adj = nx.adjacency_matrix(gene_net)\n",
    "gene_degrees = np.array(gene_adj.sum(axis=0)).squeeze()"
   ]
  },
  {
   "cell_type": "code",
   "execution_count": 26,
   "metadata": {},
   "outputs": [
    {
     "data": {
      "text/plain": [
       "18"
      ]
     },
     "execution_count": 26,
     "metadata": {},
     "output_type": "execute_result"
    }
   ],
   "source": [
    "gene_degrees[0]"
   ]
  },
  {
   "cell_type": "code",
   "execution_count": 36,
   "metadata": {},
   "outputs": [
    {
     "data": {
      "text/plain": [
       "<1x400 sparse matrix of type '<class 'numpy.int32'>'\n",
       "\twith 28 stored elements in Compressed Sparse Row format>"
      ]
     },
     "execution_count": 36,
     "metadata": {},
     "output_type": "execute_result"
    }
   ],
   "source": [
    "gene_drug_adj = sp.csr_matrix((10 * np.random.randn(n_genes, n_drugs) > 15).astype(int))\n",
    "drug_gene_adj = gene_drug_adj.transpose(copy=True)\n",
    "\n",
    "gene_drug_adj[0]"
   ]
  },
  {
   "cell_type": "code",
   "execution_count": 37,
   "metadata": {},
   "outputs": [
    {
     "data": {
      "text/plain": [
       "[<400x400 sparse matrix of type '<class 'numpy.float64'>'\n",
       " \twith 17724 stored elements in Compressed Sparse Row format>,\n",
       " <400x400 sparse matrix of type '<class 'numpy.float64'>'\n",
       " \twith 7916 stored elements in Compressed Sparse Row format>,\n",
       " <400x400 sparse matrix of type '<class 'numpy.float64'>'\n",
       " \twith 3018 stored elements in Compressed Sparse Row format>]"
      ]
     },
     "execution_count": 37,
     "metadata": {},
     "output_type": "execute_result"
    }
   ],
   "source": [
    "drug_drug_adj_list = []\n",
    "tmp = np.dot(drug_gene_adj, gene_drug_adj)\n",
    "for i in range(n_drugdrug_rel_types):\n",
    "    mat = np.zeros((n_drugs, n_drugs))\n",
    "    for d1, d2 in combinations(list(range(n_drugs)), 2):\n",
    "        if tmp[d1, d2] == i + 4:\n",
    "            mat[d1, d2] = mat[d2, d1] = 1.\n",
    "    drug_drug_adj_list.append(sp.csr_matrix(mat))\n",
    "drug_degrees_list = [np.array(drug_adj.sum(axis=0)).squeeze() for drug_adj in drug_drug_adj_list]\n",
    "\n",
    "drug_drug_adj_list"
   ]
  },
  {
   "cell_type": "code",
   "execution_count": 8,
   "metadata": {},
   "outputs": [
    {
     "name": "stdout",
     "output_type": "stream",
     "text": [
      "Edge types: 10\n"
     ]
    }
   ],
   "source": [
    "\n",
    "\n",
    "# data representation\n",
    "adj_mats_orig = {\n",
    "    (0, 0): [gene_adj, gene_adj.transpose(copy=True)],\n",
    "    (0, 1): [gene_drug_adj],\n",
    "    (1, 0): [drug_gene_adj],\n",
    "    (1, 1): drug_drug_adj_list + [x.transpose(copy=True) for x in drug_drug_adj_list],\n",
    "}\n",
    "degrees = {\n",
    "    0: [gene_degrees, gene_degrees],\n",
    "    1: drug_degrees_list + drug_degrees_list,\n",
    "}\n",
    "\n",
    "# featureless (genes)\n",
    "gene_feat = sp.identity(n_genes)\n",
    "gene_nonzero_feat, gene_num_feat = gene_feat.shape\n",
    "gene_feat = preprocessing.sparse_to_tuple(gene_feat.tocoo())\n",
    "\n",
    "# features (drugs)\n",
    "drug_feat = sp.identity(n_drugs)\n",
    "drug_nonzero_feat, drug_num_feat = drug_feat.shape\n",
    "drug_feat = preprocessing.sparse_to_tuple(drug_feat.tocoo())\n",
    "\n",
    "# data representation\n",
    "num_feat = {\n",
    "    0: gene_num_feat,\n",
    "    1: drug_num_feat,\n",
    "}\n",
    "nonzero_feat = {\n",
    "    0: gene_nonzero_feat,\n",
    "    1: drug_nonzero_feat,\n",
    "}\n",
    "feat = {\n",
    "    0: gene_feat,\n",
    "    1: drug_feat,\n",
    "}\n",
    "\n",
    "edge_type2dim = {k: [adj.shape for adj in adjs] for k, adjs in adj_mats_orig.items()}\n",
    "edge_type2decoder = {\n",
    "    (0, 0): 'bilinear',\n",
    "    (0, 1): 'bilinear',\n",
    "    (1, 0): 'bilinear',\n",
    "    (1, 1): 'dedicom',\n",
    "}\n",
    "\n",
    "edge_types = {k: len(v) for k, v in adj_mats_orig.items()}\n",
    "num_edge_types = sum(edge_types.values())\n",
    "print(\"Edge types:\", \"%d\" % num_edge_types)"
   ]
  },
  {
   "cell_type": "code",
   "execution_count": 14,
   "metadata": {},
   "outputs": [],
   "source": [
    "from polypharmacy.utility import load_combo_se, load_ppi, load_mono_se, load_targets, load_categories "
   ]
  },
  {
   "cell_type": "code",
   "execution_count": 17,
   "metadata": {},
   "outputs": [
    {
     "name": "stdout",
     "output_type": "stream",
     "text": [
      "Reading: data\\bio-decagon-combo.csv\n",
      "Drug combinations: 63473 Side effects: 1317\n",
      "Drug-drug interactions: 4649441\n"
     ]
    }
   ],
   "source": [
    "import os\n",
    "combo2stitch, combo2se, se2name = load_combo_se(os.path.join('data', 'bio-decagon-combo.csv'))"
   ]
  }
 ],
 "metadata": {
  "kernelspec": {
   "display_name": "Python 3",
   "language": "python",
   "name": "python3"
  },
  "language_info": {
   "codemirror_mode": {
    "name": "ipython",
    "version": 3
   },
   "file_extension": ".py",
   "mimetype": "text/x-python",
   "name": "python",
   "nbconvert_exporter": "python",
   "pygments_lexer": "ipython3",
   "version": "3.6.6"
  }
 },
 "nbformat": 4,
 "nbformat_minor": 2
}
